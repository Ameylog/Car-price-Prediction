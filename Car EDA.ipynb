{
 "cells": [
  {
   "cell_type": "code",
   "execution_count": 1,
   "id": "d6ae72a4",
   "metadata": {},
   "outputs": [
    {
     "name": "stdout",
     "output_type": "stream",
     "text": [
      "Collecting pandas-profiling\n",
      "  Downloading pandas_profiling-3.6.1-py2.py3-none-any.whl (328 kB)\n",
      "Requirement already satisfied: scipy<1.10,>=1.4.1 in c:\\users\\amey shende\\anaconda3\\lib\\site-packages (from pandas-profiling) (1.6.2)\n",
      "Requirement already satisfied: requests<2.29,>=2.24.0 in c:\\users\\amey shende\\anaconda3\\lib\\site-packages (from pandas-profiling) (2.25.1)\n",
      "Collecting statsmodels<0.14,>=0.13.2\n",
      "  Downloading statsmodels-0.13.5-cp38-cp38-win_amd64.whl (9.2 MB)\n",
      "Requirement already satisfied: jinja2<3.2,>=2.11.1 in c:\\users\\amey shende\\anaconda3\\lib\\site-packages (from pandas-profiling) (2.11.3)\n",
      "Collecting pydantic<1.11,>=1.8.1\n",
      "  Downloading pydantic-1.10.4-cp38-cp38-win_amd64.whl (2.2 MB)\n",
      "Requirement already satisfied: seaborn<0.13,>=0.10.1 in c:\\users\\amey shende\\anaconda3\\lib\\site-packages (from pandas-profiling) (0.11.1)\n",
      "Requirement already satisfied: pandas!=1.4.0,<1.6,>1.1 in c:\\users\\amey shende\\anaconda3\\lib\\site-packages (from pandas-profiling) (1.2.4)\n",
      "Collecting typeguard<2.14,>=2.13.2\n",
      "  Downloading typeguard-2.13.3-py3-none-any.whl (17 kB)\n",
      "Requirement already satisfied: matplotlib<3.7,>=3.2 in c:\\users\\amey shende\\anaconda3\\lib\\site-packages (from pandas-profiling) (3.3.4)\n",
      "Requirement already satisfied: tqdm<4.65,>=4.48.2 in c:\\users\\amey shende\\anaconda3\\lib\\site-packages (from pandas-profiling) (4.59.0)\n",
      "Requirement already satisfied: numpy<1.24,>=1.16.0 in c:\\users\\amey shende\\anaconda3\\lib\\site-packages (from pandas-profiling) (1.20.1)\n",
      "Collecting multimethod<1.10,>=1.4\n",
      "  Downloading multimethod-1.9.1-py3-none-any.whl (10 kB)\n",
      "Collecting phik<0.13,>=0.11.1\n",
      "  Downloading phik-0.12.3-cp38-cp38-win_amd64.whl (663 kB)\n",
      "Requirement already satisfied: PyYAML<6.1,>=5.0.0 in c:\\users\\amey shende\\anaconda3\\lib\\site-packages (from pandas-profiling) (5.4.1)\n",
      "Collecting visions[type_image_path]==0.7.5\n",
      "  Downloading visions-0.7.5-py3-none-any.whl (102 kB)\n",
      "Collecting htmlmin==0.1.12\n",
      "  Downloading htmlmin-0.1.12.tar.gz (19 kB)\n",
      "Requirement already satisfied: networkx>=2.4 in c:\\users\\amey shende\\anaconda3\\lib\\site-packages (from visions[type_image_path]==0.7.5->pandas-profiling) (2.5)\n",
      "Collecting tangled-up-in-unicode>=0.0.4\n",
      "  Downloading tangled_up_in_unicode-0.2.0-py3-none-any.whl (4.7 MB)\n",
      "Requirement already satisfied: attrs>=19.3.0 in c:\\users\\amey shende\\anaconda3\\lib\\site-packages (from visions[type_image_path]==0.7.5->pandas-profiling) (20.3.0)\n",
      "Requirement already satisfied: Pillow in c:\\users\\amey shende\\anaconda3\\lib\\site-packages (from visions[type_image_path]==0.7.5->pandas-profiling) (8.2.0)\n",
      "Collecting imagehash\n",
      "  Downloading ImageHash-4.3.1-py2.py3-none-any.whl (296 kB)\n",
      "Requirement already satisfied: MarkupSafe>=0.23 in c:\\users\\amey shende\\anaconda3\\lib\\site-packages (from jinja2<3.2,>=2.11.1->pandas-profiling) (1.1.1)\n",
      "Requirement already satisfied: cycler>=0.10 in c:\\users\\amey shende\\anaconda3\\lib\\site-packages (from matplotlib<3.7,>=3.2->pandas-profiling) (0.10.0)\n",
      "Requirement already satisfied: kiwisolver>=1.0.1 in c:\\users\\amey shende\\anaconda3\\lib\\site-packages (from matplotlib<3.7,>=3.2->pandas-profiling) (1.3.1)\n",
      "Requirement already satisfied: python-dateutil>=2.1 in c:\\users\\amey shende\\anaconda3\\lib\\site-packages (from matplotlib<3.7,>=3.2->pandas-profiling) (2.8.1)\n",
      "Requirement already satisfied: pyparsing!=2.0.4,!=2.1.2,!=2.1.6,>=2.0.3 in c:\\users\\amey shende\\anaconda3\\lib\\site-packages (from matplotlib<3.7,>=3.2->pandas-profiling) (2.4.7)\n",
      "Requirement already satisfied: six in c:\\users\\amey shende\\anaconda3\\lib\\site-packages (from cycler>=0.10->matplotlib<3.7,>=3.2->pandas-profiling) (1.15.0)\n",
      "Requirement already satisfied: decorator>=4.3.0 in c:\\users\\amey shende\\anaconda3\\lib\\site-packages (from networkx>=2.4->visions[type_image_path]==0.7.5->pandas-profiling) (5.0.6)\n",
      "Requirement already satisfied: pytz>=2017.3 in c:\\users\\amey shende\\anaconda3\\lib\\site-packages (from pandas!=1.4.0,<1.6,>1.1->pandas-profiling) (2021.1)\n",
      "Requirement already satisfied: joblib>=0.14.1 in c:\\users\\amey shende\\anaconda3\\lib\\site-packages (from phik<0.13,>=0.11.1->pandas-profiling) (1.2.0)\n",
      "Collecting typing-extensions>=4.2.0\n",
      "  Downloading typing_extensions-4.4.0-py3-none-any.whl (26 kB)\n",
      "Requirement already satisfied: idna<3,>=2.5 in c:\\users\\amey shende\\anaconda3\\lib\\site-packages (from requests<2.29,>=2.24.0->pandas-profiling) (2.10)\n",
      "Requirement already satisfied: urllib3<1.27,>=1.21.1 in c:\\users\\amey shende\\anaconda3\\lib\\site-packages (from requests<2.29,>=2.24.0->pandas-profiling) (1.26.4)\n",
      "Requirement already satisfied: chardet<5,>=3.0.2 in c:\\users\\amey shende\\anaconda3\\lib\\site-packages (from requests<2.29,>=2.24.0->pandas-profiling) (4.0.0)\n",
      "Requirement already satisfied: certifi>=2017.4.17 in c:\\users\\amey shende\\anaconda3\\lib\\site-packages (from requests<2.29,>=2.24.0->pandas-profiling) (2020.12.5)\n",
      "Collecting packaging>=21.3\n",
      "  Downloading packaging-22.0-py3-none-any.whl (42 kB)\n",
      "Collecting patsy>=0.5.2\n",
      "  Downloading patsy-0.5.3-py2.py3-none-any.whl (233 kB)\n",
      "Requirement already satisfied: PyWavelets in c:\\users\\amey shende\\anaconda3\\lib\\site-packages (from imagehash->visions[type_image_path]==0.7.5->pandas-profiling) (1.1.1)\n",
      "Building wheels for collected packages: htmlmin\n",
      "  Building wheel for htmlmin (setup.py): started\n",
      "  Building wheel for htmlmin (setup.py): finished with status 'done'\n",
      "  Created wheel for htmlmin: filename=htmlmin-0.1.12-py3-none-any.whl size=27085 sha256=a9c3ccb2266b0ae6e725e2afb8387c3fd8a6a27269217e17b4a6e7b2b0ee7c37\n",
      "  Stored in directory: c:\\users\\amey shende\\appdata\\local\\pip\\cache\\wheels\\23\\14\\6e\\4be5bfeeb027f4939a01764b48edd5996acf574b0913fe5243\n",
      "Successfully built htmlmin\n",
      "Installing collected packages: tangled-up-in-unicode, multimethod, visions, typing-extensions, patsy, packaging, imagehash, typeguard, statsmodels, pydantic, phik, htmlmin, pandas-profiling\n",
      "  Attempting uninstall: typing-extensions\n",
      "    Found existing installation: typing-extensions 3.7.4.3\n",
      "    Uninstalling typing-extensions-3.7.4.3:\n",
      "      Successfully uninstalled typing-extensions-3.7.4.3\n",
      "  Attempting uninstall: patsy\n",
      "    Found existing installation: patsy 0.5.1\n",
      "    Uninstalling patsy-0.5.1:\n",
      "      Successfully uninstalled patsy-0.5.1\n",
      "  Attempting uninstall: packaging\n",
      "    Found existing installation: packaging 20.9\n",
      "    Uninstalling packaging-20.9:\n",
      "      Successfully uninstalled packaging-20.9\n",
      "  Attempting uninstall: statsmodels\n",
      "    Found existing installation: statsmodels 0.12.2\n",
      "    Uninstalling statsmodels-0.12.2:\n",
      "      Successfully uninstalled statsmodels-0.12.2\n",
      "Successfully installed htmlmin-0.1.12 imagehash-4.3.1 multimethod-1.9.1 packaging-22.0 pandas-profiling-3.6.1 patsy-0.5.3 phik-0.12.3 pydantic-1.10.4 statsmodels-0.13.5 tangled-up-in-unicode-0.2.0 typeguard-2.13.3 typing-extensions-4.4.0 visions-0.7.5\n"
     ]
    }
   ],
   "source": [
    "!pip install pandas-profiling"
   ]
  },
  {
   "cell_type": "code",
   "execution_count": 2,
   "id": "5dd62a29",
   "metadata": {},
   "outputs": [],
   "source": [
    "import seaborn as sns\n",
    "import pandas as pd\n",
    "import numpy as np\n"
   ]
  },
  {
   "cell_type": "code",
   "execution_count": 3,
   "id": "62a96829",
   "metadata": {},
   "outputs": [],
   "source": [
    "df=pd.read_csv('quikr_car.csv')"
   ]
  },
  {
   "cell_type": "code",
   "execution_count": 4,
   "id": "440b9072",
   "metadata": {},
   "outputs": [
    {
     "data": {
      "text/html": [
       "<div>\n",
       "<style scoped>\n",
       "    .dataframe tbody tr th:only-of-type {\n",
       "        vertical-align: middle;\n",
       "    }\n",
       "\n",
       "    .dataframe tbody tr th {\n",
       "        vertical-align: top;\n",
       "    }\n",
       "\n",
       "    .dataframe thead th {\n",
       "        text-align: right;\n",
       "    }\n",
       "</style>\n",
       "<table border=\"1\" class=\"dataframe\">\n",
       "  <thead>\n",
       "    <tr style=\"text-align: right;\">\n",
       "      <th></th>\n",
       "      <th>name</th>\n",
       "      <th>company</th>\n",
       "      <th>year</th>\n",
       "      <th>Price</th>\n",
       "      <th>kms_driven</th>\n",
       "      <th>fuel_type</th>\n",
       "    </tr>\n",
       "  </thead>\n",
       "  <tbody>\n",
       "    <tr>\n",
       "      <th>0</th>\n",
       "      <td>Hyundai Santro Xing XO eRLX Euro III</td>\n",
       "      <td>Hyundai</td>\n",
       "      <td>2007</td>\n",
       "      <td>80,000</td>\n",
       "      <td>45,000 kms</td>\n",
       "      <td>Petrol</td>\n",
       "    </tr>\n",
       "    <tr>\n",
       "      <th>1</th>\n",
       "      <td>Mahindra Jeep CL550 MDI</td>\n",
       "      <td>Mahindra</td>\n",
       "      <td>2006</td>\n",
       "      <td>4,25,000</td>\n",
       "      <td>40 kms</td>\n",
       "      <td>Diesel</td>\n",
       "    </tr>\n",
       "    <tr>\n",
       "      <th>2</th>\n",
       "      <td>Maruti Suzuki Alto 800 Vxi</td>\n",
       "      <td>Maruti</td>\n",
       "      <td>2018</td>\n",
       "      <td>Ask For Price</td>\n",
       "      <td>22,000 kms</td>\n",
       "      <td>Petrol</td>\n",
       "    </tr>\n",
       "    <tr>\n",
       "      <th>3</th>\n",
       "      <td>Hyundai Grand i10 Magna 1.2 Kappa VTVT</td>\n",
       "      <td>Hyundai</td>\n",
       "      <td>2014</td>\n",
       "      <td>3,25,000</td>\n",
       "      <td>28,000 kms</td>\n",
       "      <td>Petrol</td>\n",
       "    </tr>\n",
       "    <tr>\n",
       "      <th>4</th>\n",
       "      <td>Ford EcoSport Titanium 1.5L TDCi</td>\n",
       "      <td>Ford</td>\n",
       "      <td>2014</td>\n",
       "      <td>5,75,000</td>\n",
       "      <td>36,000 kms</td>\n",
       "      <td>Diesel</td>\n",
       "    </tr>\n",
       "  </tbody>\n",
       "</table>\n",
       "</div>"
      ],
      "text/plain": [
       "                                     name   company  year          Price  \\\n",
       "0    Hyundai Santro Xing XO eRLX Euro III   Hyundai  2007         80,000   \n",
       "1                 Mahindra Jeep CL550 MDI  Mahindra  2006       4,25,000   \n",
       "2              Maruti Suzuki Alto 800 Vxi    Maruti  2018  Ask For Price   \n",
       "3  Hyundai Grand i10 Magna 1.2 Kappa VTVT   Hyundai  2014       3,25,000   \n",
       "4        Ford EcoSport Titanium 1.5L TDCi      Ford  2014       5,75,000   \n",
       "\n",
       "   kms_driven fuel_type  \n",
       "0  45,000 kms    Petrol  \n",
       "1      40 kms    Diesel  \n",
       "2  22,000 kms    Petrol  \n",
       "3  28,000 kms    Petrol  \n",
       "4  36,000 kms    Diesel  "
      ]
     },
     "execution_count": 4,
     "metadata": {},
     "output_type": "execute_result"
    }
   ],
   "source": [
    "df.head()"
   ]
  },
  {
   "cell_type": "code",
   "execution_count": 6,
   "id": "b52d710c",
   "metadata": {},
   "outputs": [
    {
     "data": {
      "application/vnd.jupyter.widget-view+json": {
       "model_id": "affdcadb44f4431ba4eebd1bd92f3f89",
       "version_major": 2,
       "version_minor": 0
      },
      "text/plain": [
       "Summarize dataset:   0%|          | 0/5 [00:00<?, ?it/s]"
      ]
     },
     "metadata": {},
     "output_type": "display_data"
    },
    {
     "data": {
      "application/vnd.jupyter.widget-view+json": {
       "model_id": "135d14070525484c98fa17331c764cc0",
       "version_major": 2,
       "version_minor": 0
      },
      "text/plain": [
       "Generate report structure:   0%|          | 0/1 [00:00<?, ?it/s]"
      ]
     },
     "metadata": {},
     "output_type": "display_data"
    },
    {
     "data": {
      "application/vnd.jupyter.widget-view+json": {
       "model_id": "25cd5a396ef043f7966c6e7f12346ea2",
       "version_major": 2,
       "version_minor": 0
      },
      "text/plain": [
       "Render HTML:   0%|          | 0/1 [00:00<?, ?it/s]"
      ]
     },
     "metadata": {},
     "output_type": "display_data"
    },
    {
     "data": {
      "application/vnd.jupyter.widget-view+json": {
       "model_id": "3a2daf664ac5443ca822204eebff85d3",
       "version_major": 2,
       "version_minor": 0
      },
      "text/plain": [
       "Export report to file:   0%|          | 0/1 [00:00<?, ?it/s]"
      ]
     },
     "metadata": {},
     "output_type": "display_data"
    }
   ],
   "source": [
    "from pandas_profiling import ProfileReport\n",
    "profile=ProfileReport(df,explorative=True)\n",
    "profile.to_file('output.html')"
   ]
  },
  {
   "cell_type": "code",
   "execution_count": 7,
   "id": "1a329485",
   "metadata": {},
   "outputs": [],
   "source": [
    "\n",
    "\n",
    "\n",
    "# from pandas_profiling import ProfileReport\n",
    "# profile=ProfileReport(df,explorative=True)\n",
    "# profile.to_file('output2.html')\n"
   ]
  },
  {
   "cell_type": "code",
   "execution_count": 8,
   "id": "39738fd8",
   "metadata": {},
   "outputs": [],
   "source": [
    "# with clened data\n"
   ]
  },
  {
   "cell_type": "code",
   "execution_count": 9,
   "id": "8ba3e0d8",
   "metadata": {},
   "outputs": [],
   "source": [
    "df=pd.read_csv('Cleaned_Car_data.csv')"
   ]
  },
  {
   "cell_type": "code",
   "execution_count": 10,
   "id": "4e9ddab9",
   "metadata": {},
   "outputs": [
    {
     "data": {
      "text/html": [
       "<div>\n",
       "<style scoped>\n",
       "    .dataframe tbody tr th:only-of-type {\n",
       "        vertical-align: middle;\n",
       "    }\n",
       "\n",
       "    .dataframe tbody tr th {\n",
       "        vertical-align: top;\n",
       "    }\n",
       "\n",
       "    .dataframe thead th {\n",
       "        text-align: right;\n",
       "    }\n",
       "</style>\n",
       "<table border=\"1\" class=\"dataframe\">\n",
       "  <thead>\n",
       "    <tr style=\"text-align: right;\">\n",
       "      <th></th>\n",
       "      <th>Unnamed: 0</th>\n",
       "      <th>name</th>\n",
       "      <th>company</th>\n",
       "      <th>year</th>\n",
       "      <th>Price</th>\n",
       "      <th>kms_driven</th>\n",
       "      <th>fuel_type</th>\n",
       "    </tr>\n",
       "  </thead>\n",
       "  <tbody>\n",
       "    <tr>\n",
       "      <th>0</th>\n",
       "      <td>0</td>\n",
       "      <td>Hyundai Santro Xing</td>\n",
       "      <td>Hyundai</td>\n",
       "      <td>2007</td>\n",
       "      <td>80000</td>\n",
       "      <td>45000</td>\n",
       "      <td>Petrol</td>\n",
       "    </tr>\n",
       "    <tr>\n",
       "      <th>1</th>\n",
       "      <td>1</td>\n",
       "      <td>Mahindra Jeep CL550</td>\n",
       "      <td>Mahindra</td>\n",
       "      <td>2006</td>\n",
       "      <td>425000</td>\n",
       "      <td>40</td>\n",
       "      <td>Diesel</td>\n",
       "    </tr>\n",
       "    <tr>\n",
       "      <th>2</th>\n",
       "      <td>2</td>\n",
       "      <td>Hyundai Grand i10</td>\n",
       "      <td>Hyundai</td>\n",
       "      <td>2014</td>\n",
       "      <td>325000</td>\n",
       "      <td>28000</td>\n",
       "      <td>Petrol</td>\n",
       "    </tr>\n",
       "    <tr>\n",
       "      <th>3</th>\n",
       "      <td>3</td>\n",
       "      <td>Ford EcoSport Titanium</td>\n",
       "      <td>Ford</td>\n",
       "      <td>2014</td>\n",
       "      <td>575000</td>\n",
       "      <td>36000</td>\n",
       "      <td>Diesel</td>\n",
       "    </tr>\n",
       "    <tr>\n",
       "      <th>4</th>\n",
       "      <td>4</td>\n",
       "      <td>Ford Figo</td>\n",
       "      <td>Ford</td>\n",
       "      <td>2012</td>\n",
       "      <td>175000</td>\n",
       "      <td>41000</td>\n",
       "      <td>Diesel</td>\n",
       "    </tr>\n",
       "  </tbody>\n",
       "</table>\n",
       "</div>"
      ],
      "text/plain": [
       "   Unnamed: 0                    name   company  year   Price  kms_driven  \\\n",
       "0           0     Hyundai Santro Xing   Hyundai  2007   80000       45000   \n",
       "1           1     Mahindra Jeep CL550  Mahindra  2006  425000          40   \n",
       "2           2       Hyundai Grand i10   Hyundai  2014  325000       28000   \n",
       "3           3  Ford EcoSport Titanium      Ford  2014  575000       36000   \n",
       "4           4               Ford Figo      Ford  2012  175000       41000   \n",
       "\n",
       "  fuel_type  \n",
       "0    Petrol  \n",
       "1    Diesel  \n",
       "2    Petrol  \n",
       "3    Diesel  \n",
       "4    Diesel  "
      ]
     },
     "execution_count": 10,
     "metadata": {},
     "output_type": "execute_result"
    }
   ],
   "source": [
    "df.head()"
   ]
  },
  {
   "cell_type": "code",
   "execution_count": 11,
   "id": "b81301e3",
   "metadata": {},
   "outputs": [
    {
     "data": {
      "text/plain": [
       "(816, 7)"
      ]
     },
     "execution_count": 11,
     "metadata": {},
     "output_type": "execute_result"
    }
   ],
   "source": [
    "df.shape"
   ]
  },
  {
   "cell_type": "code",
   "execution_count": 12,
   "id": "e6376bd8",
   "metadata": {},
   "outputs": [
    {
     "data": {
      "application/vnd.jupyter.widget-view+json": {
       "model_id": "e7e5368be4ca452cbf2644608642bfc0",
       "version_major": 2,
       "version_minor": 0
      },
      "text/plain": [
       "Summarize dataset:   0%|          | 0/5 [00:00<?, ?it/s]"
      ]
     },
     "metadata": {},
     "output_type": "display_data"
    },
    {
     "data": {
      "application/vnd.jupyter.widget-view+json": {
       "model_id": "1cd2d88e6c0a4680893d7d6c9a0c6caa",
       "version_major": 2,
       "version_minor": 0
      },
      "text/plain": [
       "Generate report structure:   0%|          | 0/1 [00:00<?, ?it/s]"
      ]
     },
     "metadata": {},
     "output_type": "display_data"
    },
    {
     "data": {
      "application/vnd.jupyter.widget-view+json": {
       "model_id": "3673ac6df74f4b45860e5a0892126071",
       "version_major": 2,
       "version_minor": 0
      },
      "text/plain": [
       "Render HTML:   0%|          | 0/1 [00:00<?, ?it/s]"
      ]
     },
     "metadata": {},
     "output_type": "display_data"
    },
    {
     "data": {
      "application/vnd.jupyter.widget-view+json": {
       "model_id": "3e8d9761dff444198b25d49d160eba59",
       "version_major": 2,
       "version_minor": 0
      },
      "text/plain": [
       "Export report to file:   0%|          | 0/1 [00:00<?, ?it/s]"
      ]
     },
     "metadata": {},
     "output_type": "display_data"
    }
   ],
   "source": [
    "from pandas_profiling import ProfileReport\n",
    "profile=ProfileReport(df,explorative=True)\n",
    "profile.to_file('output2.html')"
   ]
  },
  {
   "cell_type": "code",
   "execution_count": null,
   "id": "d2060e5e",
   "metadata": {},
   "outputs": [],
   "source": []
  }
 ],
 "metadata": {
  "kernelspec": {
   "display_name": "Python 3",
   "language": "python",
   "name": "python3"
  },
  "language_info": {
   "codemirror_mode": {
    "name": "ipython",
    "version": 3
   },
   "file_extension": ".py",
   "mimetype": "text/x-python",
   "name": "python",
   "nbconvert_exporter": "python",
   "pygments_lexer": "ipython3",
   "version": "3.8.8"
  }
 },
 "nbformat": 4,
 "nbformat_minor": 5
}
